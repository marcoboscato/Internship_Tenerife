{
 "cells": [
  {
   "cell_type": "code",
   "execution_count": 1,
   "metadata": {},
   "outputs": [],
   "source": [
    "import numpy as np\n",
    "from astropy.table import Table, Column"
   ]
  },
  {
   "cell_type": "code",
   "execution_count": 2,
   "metadata": {},
   "outputs": [
    {
     "name": "stderr",
     "output_type": "stream",
     "text": [
      "WARNING: UnitsWarning: ''electron'.s**-1' did not parse as fits unit: At col 0, Unit ''electron'' not supported by the FITS standard.  If this is meant to be a custom unit, define it with 'u.def_unit'. To have it recognized inside a file reader or other code, enable it with 'u.add_enabled_units'. For details, see https://docs.astropy.org/en/latest/units/combining_and_defining.html [astropy.units.core]\n"
     ]
    }
   ],
   "source": [
    "t0 = Table.read('../../Data/catalogs/Sextans/Sextans_r4deg_gaiaeDR3.fits',format='fits')\n",
    "t0 = t0[t0['duplicated_source']==False]\n",
    "t0.sort('source_id')\n",
    "s = Table.read('../../Data/catalogs/Sextans/out_cat/out_test_Sextans_eDR3.fits',format='fits')"
   ]
  },
  {
   "cell_type": "code",
   "execution_count": null,
   "metadata": {},
   "outputs": [
    {
     "name": "stdout",
     "output_type": "stream",
     "text": [
      "[ 1 13 26 34 40 47 49 50 54 60]\n",
      "     source_id              ra         ...           P           \n",
      "                           deg         ...                       \n",
      "------------------- ------------------ ... ----------------------\n",
      "3773716978192801664   152.758262122632 ... 1.3781662725284756e-36\n",
      "3773728587489525504 152.70352598019298 ... 7.272390182701154e-296\n",
      "3773728896727175680 152.64982265739238 ...  5.066718829413902e-11\n",
      "3773729347698488320 152.69284334949072 ...  4.229354229900712e-64\n",
      "3773729553857046144  152.6364830169225 ...  4.550927020739158e-20\n",
      "3773730000533521792  152.6185478482904 ... 1.7124207686156537e-69\n",
      "3773730034893383168 152.61938569245132 ...  7.163620357228919e-25\n",
      "3773730064958289536 152.66916154240923 ... 4.2123950701590276e-11\n",
      "3773730241051793920 152.70241843024976 ...  5.928465410650303e-23\n",
      "3773730477275157760 152.66769292025103 ... 2.3921104536186124e-19\n",
      "     source_id              ra         ... ipd_frac_multi_peak\n",
      "                           deg         ...                    \n",
      "------------------- ------------------ ... -------------------\n",
      "3773716978192801664   152.758262122632 ...                   0\n",
      "3773728587489525504 152.70352598019298 ...                   1\n",
      "3773728896727175680 152.64982265739238 ...                   0\n",
      "3773729347698488320 152.69284334949072 ...                   0\n",
      "3773729553857046144  152.6364830169225 ...                   0\n",
      "3773730000533521792  152.6185478482904 ...                   0\n",
      "3773730034893383168 152.61938569245132 ...                   0\n",
      "3773730064958289536 152.66916154240923 ...                   0\n",
      "3773730241051793920 152.70241843024976 ...                   0\n",
      "3773730477275157760 152.66769292025103 ...                   0\n"
     ]
    }
   ],
   "source": [
    "if_members = np.isin(t0['source_id'],s['source_id'])\n",
    "indices_Members = np.where(if_members==True)[0]\n",
    "\n",
    "t0_temp = t0[indices_Members]\n",
    "print(indices_Members[:10])\n",
    "print(s[:10])\n",
    "print(t0_temp[:10])"
   ]
  },
  {
   "cell_type": "code",
   "execution_count": 4,
   "metadata": {},
   "outputs": [
    {
     "name": "stdout",
     "output_type": "stream",
     "text": [
      "['G0_c', 'BP0', 'RP0', 'Xi', 'Xn', 'Rad', 'P']\n"
     ]
    }
   ],
   "source": [
    "extra_columns_name = s.colnames[-7:]\n",
    "extra_columns_name_description = [s[col].description for col in extra_columns_name]\n",
    "print(extra_columns_name)"
   ]
  },
  {
   "cell_type": "code",
   "execution_count": 5,
   "metadata": {},
   "outputs": [],
   "source": [
    "# add columns to t0:\n",
    "cols = []\n",
    "for i in range(len(extra_columns_name)):\n",
    "    new_col = Column(np.full(len(t0['source_id']), np.nan), name=extra_columns_name[i], description=extra_columns_name_description[i])\n",
    "    cols.append(new_col)\n",
    "cols.append(Column(if_members, name='if_member', description=''))\n",
    "\n",
    "t0.add_columns(cols)"
   ]
  },
  {
   "cell_type": "code",
   "execution_count": 6,
   "metadata": {},
   "outputs": [],
   "source": [
    "for name in extra_columns_name:\n",
    "    t0[name][indices_Members] = s[name]"
   ]
  },
  {
   "cell_type": "code",
   "execution_count": 7,
   "metadata": {},
   "outputs": [
    {
     "name": "stdout",
     "output_type": "stream",
     "text": [
      "     source_id              ra         ...           P           \n",
      "                           deg         ...                       \n",
      "------------------- ------------------ ... ----------------------\n",
      "3773716978192801664   152.758262122632 ... 1.3781662725284756e-36\n",
      "3773728587489525504 152.70352598019298 ... 7.272390182701154e-296\n",
      "3773728896727175680 152.64982265739238 ...  5.066718829413902e-11\n",
      "3773729347698488320 152.69284334949072 ...  4.229354229900712e-64\n",
      "3773729553857046144  152.6364830169225 ...  4.550927020739158e-20\n",
      "3773730000533521792  152.6185478482904 ... 1.7124207686156537e-69\n",
      "3773730034893383168 152.61938569245132 ...  7.163620357228919e-25\n",
      "3773730064958289536 152.66916154240923 ... 4.2123950701590276e-11\n",
      "3773730241051793920 152.70241843024976 ...  5.928465410650303e-23\n",
      "3773730477275157760 152.66769292025103 ... 2.3921104536186124e-19\n",
      "     source_id              ra         ...           P            if_member\n",
      "                           deg         ...                                 \n",
      "------------------- ------------------ ... ---------------------- ---------\n",
      "3773716978192801664   152.758262122632 ... 1.3781662725284756e-36      True\n",
      "3773728587489525504 152.70352598019298 ... 7.272390182701154e-296      True\n",
      "3773728896727175680 152.64982265739238 ...  5.066718829413902e-11      True\n",
      "3773729347698488320 152.69284334949072 ...  4.229354229900712e-64      True\n",
      "3773729553857046144  152.6364830169225 ...  4.550927020739158e-20      True\n",
      "3773730000533521792  152.6185478482904 ... 1.7124207686156537e-69      True\n",
      "3773730034893383168 152.61938569245132 ...  7.163620357228919e-25      True\n",
      "3773730064958289536 152.66916154240923 ... 4.2123950701590276e-11      True\n",
      "3773730241051793920 152.70241843024976 ...  5.928465410650303e-23      True\n",
      "3773730477275157760 152.66769292025103 ... 2.3921104536186124e-19      True\n"
     ]
    }
   ],
   "source": [
    "t0_temp = t0[indices_Members]\n",
    "\n",
    "print(s[:10])\n",
    "print(t0_temp[:10])"
   ]
  },
  {
   "cell_type": "code",
   "execution_count": 8,
   "metadata": {},
   "outputs": [
    {
     "ename": "KeyboardInterrupt",
     "evalue": "",
     "output_type": "error",
     "traceback": [
      "\u001b[0;31m---------------------------------------------------------------------------\u001b[0m",
      "\u001b[0;31mKeyboardInterrupt\u001b[0m                         Traceback (most recent call last)",
      "Cell \u001b[0;32mIn[8], line 1\u001b[0m\n\u001b[0;32m----> 1\u001b[0m \u001b[43mt0\u001b[49m\u001b[38;5;241;43m.\u001b[39;49m\u001b[43mwrite\u001b[49m\u001b[43m(\u001b[49m\u001b[38;5;124;43m'\u001b[39;49m\u001b[38;5;124;43m../../Data/catalogs/Sextans/out_cat/out_test_Sextans_eDR3_prova_prova.fits\u001b[39;49m\u001b[38;5;124;43m'\u001b[39;49m\u001b[43m,\u001b[49m\u001b[38;5;28;43mformat\u001b[39;49m\u001b[38;5;241;43m=\u001b[39;49m\u001b[38;5;124;43m'\u001b[39;49m\u001b[38;5;124;43mfits\u001b[39;49m\u001b[38;5;124;43m'\u001b[39;49m\u001b[43m,\u001b[49m\u001b[43moverwrite\u001b[49m\u001b[38;5;241;43m=\u001b[39;49m\u001b[38;5;28;43;01mTrue\u001b[39;49;00m\u001b[43m)\u001b[49m\n",
      "File \u001b[0;32m~/miniconda3/envs/Tesi/lib/python3.10/site-packages/astropy/table/connect.py:130\u001b[0m, in \u001b[0;36mTableWrite.__call__\u001b[0;34m(self, serialize_method, *args, **kwargs)\u001b[0m\n\u001b[1;32m    128\u001b[0m instance \u001b[38;5;241m=\u001b[39m \u001b[38;5;28mself\u001b[39m\u001b[38;5;241m.\u001b[39m_instance\n\u001b[1;32m    129\u001b[0m \u001b[38;5;28;01mwith\u001b[39;00m serialize_method_as(instance, serialize_method):\n\u001b[0;32m--> 130\u001b[0m     \u001b[38;5;28;43mself\u001b[39;49m\u001b[38;5;241;43m.\u001b[39;49m\u001b[43mregistry\u001b[49m\u001b[38;5;241;43m.\u001b[39;49m\u001b[43mwrite\u001b[49m\u001b[43m(\u001b[49m\u001b[43minstance\u001b[49m\u001b[43m,\u001b[49m\u001b[43m \u001b[49m\u001b[38;5;241;43m*\u001b[39;49m\u001b[43margs\u001b[49m\u001b[43m,\u001b[49m\u001b[43m \u001b[49m\u001b[38;5;241;43m*\u001b[39;49m\u001b[38;5;241;43m*\u001b[39;49m\u001b[43mkwargs\u001b[49m\u001b[43m)\u001b[49m\n",
      "File \u001b[0;32m~/miniconda3/envs/Tesi/lib/python3.10/site-packages/astropy/io/registry/core.py:386\u001b[0m, in \u001b[0;36mUnifiedOutputRegistry.write\u001b[0;34m(self, data, format, *args, **kwargs)\u001b[0m\n\u001b[1;32m    381\u001b[0m     \u001b[38;5;28mformat\u001b[39m \u001b[38;5;241m=\u001b[39m \u001b[38;5;28mself\u001b[39m\u001b[38;5;241m.\u001b[39m_get_valid_format(\n\u001b[1;32m    382\u001b[0m         \u001b[38;5;124m\"\u001b[39m\u001b[38;5;124mwrite\u001b[39m\u001b[38;5;124m\"\u001b[39m, data\u001b[38;5;241m.\u001b[39m\u001b[38;5;18m__class__\u001b[39m, path, fileobj, args, kwargs\n\u001b[1;32m    383\u001b[0m     )\n\u001b[1;32m    385\u001b[0m writer \u001b[38;5;241m=\u001b[39m \u001b[38;5;28mself\u001b[39m\u001b[38;5;241m.\u001b[39mget_writer(\u001b[38;5;28mformat\u001b[39m, data\u001b[38;5;241m.\u001b[39m\u001b[38;5;18m__class__\u001b[39m)\n\u001b[0;32m--> 386\u001b[0m \u001b[38;5;28;01mreturn\u001b[39;00m \u001b[43mwriter\u001b[49m\u001b[43m(\u001b[49m\u001b[43mdata\u001b[49m\u001b[43m,\u001b[49m\u001b[43m \u001b[49m\u001b[38;5;241;43m*\u001b[39;49m\u001b[43margs\u001b[49m\u001b[43m,\u001b[49m\u001b[43m \u001b[49m\u001b[38;5;241;43m*\u001b[39;49m\u001b[38;5;241;43m*\u001b[39;49m\u001b[43mkwargs\u001b[49m\u001b[43m)\u001b[49m\n",
      "File \u001b[0;32m~/miniconda3/envs/Tesi/lib/python3.10/site-packages/astropy/io/fits/connect.py:447\u001b[0m, in \u001b[0;36mwrite_table_fits\u001b[0;34m(input, output, overwrite, append)\u001b[0m\n\u001b[1;32m    444\u001b[0m \u001b[38;5;66;03m# Encode any mixin columns into standard Columns.\u001b[39;00m\n\u001b[1;32m    445\u001b[0m \u001b[38;5;28minput\u001b[39m \u001b[38;5;241m=\u001b[39m _encode_mixins(\u001b[38;5;28minput\u001b[39m)\n\u001b[0;32m--> 447\u001b[0m table_hdu \u001b[38;5;241m=\u001b[39m \u001b[43mtable_to_hdu\u001b[49m\u001b[43m(\u001b[49m\u001b[38;5;28;43minput\u001b[39;49m\u001b[43m,\u001b[49m\u001b[43m \u001b[49m\u001b[43mcharacter_as_bytes\u001b[49m\u001b[38;5;241;43m=\u001b[39;49m\u001b[38;5;28;43;01mTrue\u001b[39;49;00m\u001b[43m)\u001b[49m\n\u001b[1;32m    449\u001b[0m \u001b[38;5;66;03m# Check if output file already exists\u001b[39;00m\n\u001b[1;32m    450\u001b[0m \u001b[38;5;28;01mif\u001b[39;00m \u001b[38;5;28misinstance\u001b[39m(output, \u001b[38;5;28mstr\u001b[39m) \u001b[38;5;129;01mand\u001b[39;00m os\u001b[38;5;241m.\u001b[39mpath\u001b[38;5;241m.\u001b[39mexists(output):\n",
      "File \u001b[0;32m~/miniconda3/envs/Tesi/lib/python3.10/site-packages/astropy/io/fits/convenience.py:545\u001b[0m, in \u001b[0;36mtable_to_hdu\u001b[0;34m(table, character_as_bytes)\u001b[0m\n\u001b[1;32m    540\u001b[0m             tarray\u001b[38;5;241m.\u001b[39mfill_value[colname] \u001b[38;5;241m=\u001b[39m \u001b[38;5;124m\"\u001b[39m\u001b[38;5;124m\"\u001b[39m\n\u001b[1;32m    542\u001b[0m \u001b[38;5;66;03m# TODO: it might be better to construct the FITS table directly from\u001b[39;00m\n\u001b[1;32m    543\u001b[0m \u001b[38;5;66;03m# the Table columns, rather than go via a structured array.\u001b[39;00m\n\u001b[1;32m    544\u001b[0m table_hdu \u001b[38;5;241m=\u001b[39m BinTableHDU\u001b[38;5;241m.\u001b[39mfrom_columns(\n\u001b[0;32m--> 545\u001b[0m     \u001b[43mtarray\u001b[49m\u001b[38;5;241;43m.\u001b[39;49m\u001b[43mfilled\u001b[49m\u001b[43m(\u001b[49m\u001b[43m)\u001b[49m, header\u001b[38;5;241m=\u001b[39mhdr, character_as_bytes\u001b[38;5;241m=\u001b[39mcharacter_as_bytes\n\u001b[1;32m    546\u001b[0m )\n\u001b[1;32m    547\u001b[0m \u001b[38;5;28;01mfor\u001b[39;00m col \u001b[38;5;129;01min\u001b[39;00m table_hdu\u001b[38;5;241m.\u001b[39mcolumns:\n\u001b[1;32m    548\u001b[0m     \u001b[38;5;66;03m# Binary FITS tables support TNULL *only* for integer data columns\u001b[39;00m\n\u001b[1;32m    549\u001b[0m     \u001b[38;5;66;03m# TODO: Determine a schema for handling non-integer masked columns\u001b[39;00m\n\u001b[1;32m    550\u001b[0m     \u001b[38;5;66;03m# with non-default fill values in FITS (if at all possible).\u001b[39;00m\n\u001b[1;32m    551\u001b[0m     \u001b[38;5;66;03m# Be careful that we do not set null for columns that were not masked!\u001b[39;00m\n\u001b[1;32m    552\u001b[0m     int_formats \u001b[38;5;241m=\u001b[39m (\u001b[38;5;124m\"\u001b[39m\u001b[38;5;124mB\u001b[39m\u001b[38;5;124m\"\u001b[39m, \u001b[38;5;124m\"\u001b[39m\u001b[38;5;124mI\u001b[39m\u001b[38;5;124m\"\u001b[39m, \u001b[38;5;124m\"\u001b[39m\u001b[38;5;124mJ\u001b[39m\u001b[38;5;124m\"\u001b[39m, \u001b[38;5;124m\"\u001b[39m\u001b[38;5;124mK\u001b[39m\u001b[38;5;124m\"\u001b[39m)\n",
      "File \u001b[0;32m~/miniconda3/envs/Tesi/lib/python3.10/site-packages/numpy/ma/core.py:3845\u001b[0m, in \u001b[0;36mMaskedArray.filled\u001b[0;34m(self, fill_value)\u001b[0m\n\u001b[1;32m   3843\u001b[0m \u001b[38;5;28;01mif\u001b[39;00m m\u001b[38;5;241m.\u001b[39mdtype\u001b[38;5;241m.\u001b[39mnames \u001b[38;5;129;01mis\u001b[39;00m \u001b[38;5;129;01mnot\u001b[39;00m \u001b[38;5;28;01mNone\u001b[39;00m:\n\u001b[1;32m   3844\u001b[0m     result \u001b[38;5;241m=\u001b[39m \u001b[38;5;28mself\u001b[39m\u001b[38;5;241m.\u001b[39m_data\u001b[38;5;241m.\u001b[39mcopy(\u001b[38;5;124m'\u001b[39m\u001b[38;5;124mK\u001b[39m\u001b[38;5;124m'\u001b[39m)\n\u001b[0;32m-> 3845\u001b[0m     \u001b[43m_recursive_filled\u001b[49m\u001b[43m(\u001b[49m\u001b[43mresult\u001b[49m\u001b[43m,\u001b[49m\u001b[43m \u001b[49m\u001b[38;5;28;43mself\u001b[39;49m\u001b[38;5;241;43m.\u001b[39;49m\u001b[43m_mask\u001b[49m\u001b[43m,\u001b[49m\u001b[43m \u001b[49m\u001b[43mfill_value\u001b[49m\u001b[43m)\u001b[49m\n\u001b[1;32m   3846\u001b[0m \u001b[38;5;28;01melif\u001b[39;00m \u001b[38;5;129;01mnot\u001b[39;00m m\u001b[38;5;241m.\u001b[39many():\n\u001b[1;32m   3847\u001b[0m     \u001b[38;5;28;01mreturn\u001b[39;00m \u001b[38;5;28mself\u001b[39m\u001b[38;5;241m.\u001b[39m_data\n",
      "File \u001b[0;32m~/miniconda3/envs/Tesi/lib/python3.10/site-packages/numpy/ma/core.py:2486\u001b[0m, in \u001b[0;36m_recursive_filled\u001b[0;34m(a, mask, fill_value)\u001b[0m\n\u001b[1;32m   2484\u001b[0m     _recursive_filled(current, mask[name], fill_value[name])\n\u001b[1;32m   2485\u001b[0m \u001b[38;5;28;01melse\u001b[39;00m:\n\u001b[0;32m-> 2486\u001b[0m     \u001b[43mnp\u001b[49m\u001b[38;5;241;43m.\u001b[39;49m\u001b[43mcopyto\u001b[49m\u001b[43m(\u001b[49m\u001b[43mcurrent\u001b[49m\u001b[43m,\u001b[49m\u001b[43m \u001b[49m\u001b[43mfill_value\u001b[49m\u001b[43m[\u001b[49m\u001b[43mname\u001b[49m\u001b[43m]\u001b[49m\u001b[43m,\u001b[49m\u001b[43m \u001b[49m\u001b[43mwhere\u001b[49m\u001b[38;5;241;43m=\u001b[39;49m\u001b[43mmask\u001b[49m\u001b[43m[\u001b[49m\u001b[43mname\u001b[49m\u001b[43m]\u001b[49m\u001b[43m)\u001b[49m\n",
      "\u001b[0;31mKeyboardInterrupt\u001b[0m: "
     ]
    }
   ],
   "source": [
    "t0.write('../../Data/catalogs/Sextans/out_cat/out_test_Sextans_eDR3_prova_prova.fits',format='fits',overwrite=True)"
   ]
  }
 ],
 "metadata": {
  "kernelspec": {
   "display_name": "Tesi",
   "language": "python",
   "name": "python3"
  },
  "language_info": {
   "codemirror_mode": {
    "name": "ipython",
    "version": 3
   },
   "file_extension": ".py",
   "mimetype": "text/x-python",
   "name": "python",
   "nbconvert_exporter": "python",
   "pygments_lexer": "ipython3",
   "version": "3.10.14"
  }
 },
 "nbformat": 4,
 "nbformat_minor": 2
}
