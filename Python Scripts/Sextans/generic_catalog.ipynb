{
 "cells": [
  {
   "cell_type": "code",
   "execution_count": 1,
   "metadata": {},
   "outputs": [],
   "source": [
    "import numpy as np\n",
    "from astropy.table import Table, Column"
   ]
  },
  {
   "cell_type": "code",
   "execution_count": 2,
   "metadata": {},
   "outputs": [
    {
     "name": "stderr",
     "output_type": "stream",
     "text": [
      "WARNING: UnitsWarning: ''electron'.s**-1' did not parse as fits unit: At col 0, Unit ''electron'' not supported by the FITS standard.  If this is meant to be a custom unit, define it with 'u.def_unit'. To have it recognized inside a file reader or other code, enable it with 'u.add_enabled_units'. For details, see https://docs.astropy.org/en/latest/units/combining_and_defining.html [astropy.units.core]\n"
     ]
    }
   ],
   "source": [
    "t0 = Table.read('../../Data/catalogs/Sextans/Sextans_r4deg_gaiaeDR3.fits',format='fits')\n",
    "t0 = t0[t0['duplicated_source']==False]\n",
    "t0.sort('source_id')\n",
    "s = Table.read('../../Data/catalogs/Sextans/out_cat/out_test_Sextans_eDR3.fits',format='fits')"
   ]
  },
  {
   "cell_type": "code",
   "execution_count": null,
   "metadata": {},
   "outputs": [
    {
     "name": "stdout",
     "output_type": "stream",
     "text": [
      "[ 1 13 26 34 40 47 49 50 54 60]\n",
      "     source_id              ra         ...           P           \n",
      "                           deg         ...                       \n",
      "------------------- ------------------ ... ----------------------\n",
      "3773716978192801664   152.758262122632 ... 1.3781662725284756e-36\n",
      "3773728587489525504 152.70352598019298 ... 7.272390182701154e-296\n",
      "3773728896727175680 152.64982265739238 ...  5.066718829413902e-11\n",
      "3773729347698488320 152.69284334949072 ...  4.229354229900712e-64\n",
      "3773729553857046144  152.6364830169225 ...  4.550927020739158e-20\n",
      "3773730000533521792  152.6185478482904 ... 1.7124207686156537e-69\n",
      "3773730034893383168 152.61938569245132 ...  7.163620357228919e-25\n",
      "3773730064958289536 152.66916154240923 ... 4.2123950701590276e-11\n",
      "3773730241051793920 152.70241843024976 ...  5.928465410650303e-23\n",
      "3773730477275157760 152.66769292025103 ... 2.3921104536186124e-19\n",
      "     source_id              ra         ... ipd_frac_multi_peak\n",
      "                           deg         ...                    \n",
      "------------------- ------------------ ... -------------------\n",
      "3773716978192801664   152.758262122632 ...                   0\n",
      "3773728587489525504 152.70352598019298 ...                   1\n",
      "3773728896727175680 152.64982265739238 ...                   0\n",
      "3773729347698488320 152.69284334949072 ...                   0\n",
      "3773729553857046144  152.6364830169225 ...                   0\n",
      "3773730000533521792  152.6185478482904 ...                   0\n",
      "3773730034893383168 152.61938569245132 ...                   0\n",
      "3773730064958289536 152.66916154240923 ...                   0\n",
      "3773730241051793920 152.70241843024976 ...                   0\n",
      "3773730477275157760 152.66769292025103 ...                   0\n"
     ]
    }
   ],
   "source": [
    "if_members = np.isin(t0['source_id'],s['source_id'])\n",
    "indices_Members = np.where(if_members==True)[0]\n",
    "\n",
    "t0_temp = t0[indices_Members]\n",
    "print(indices_Members[:10])\n",
    "print(s[:10])\n",
    "print(t0_temp[:10])"
   ]
  },
  {
   "cell_type": "code",
   "execution_count": 4,
   "metadata": {},
   "outputs": [
    {
     "name": "stdout",
     "output_type": "stream",
     "text": [
      "['G0_c', 'BP0', 'RP0', 'Xi', 'Xn', 'Rad', 'P']\n"
     ]
    }
   ],
   "source": [
    "extra_columns_name = s.colnames[-7:]\n",
    "extra_columns_name_description = [s[col].description for col in extra_columns_name]\n",
    "print(extra_columns_name)"
   ]
  },
  {
   "cell_type": "code",
   "execution_count": 5,
   "metadata": {},
   "outputs": [],
   "source": [
    "# add columns to t0:\n",
    "cols = []\n",
    "for i in range(len(extra_columns_name)):\n",
    "    new_col = Column(np.full(len(t0['source_id']), np.nan), name=extra_columns_name[i], description=extra_columns_name_description[i])\n",
    "    cols.append(new_col)\n",
    "cols.append(Column(if_members, name='if_member', description=''))\n",
    "\n",
    "t0.add_columns(cols)"
   ]
  },
  {
   "cell_type": "code",
   "execution_count": 6,
   "metadata": {},
   "outputs": [],
   "source": [
    "for name in extra_columns_name:\n",
    "    t0[name][indices_Members] = s[name]"
   ]
  },
  {
   "cell_type": "code",
   "execution_count": 7,
   "metadata": {},
   "outputs": [
    {
     "name": "stdout",
     "output_type": "stream",
     "text": [
      "     source_id              ra         ...           P           \n",
      "                           deg         ...                       \n",
      "------------------- ------------------ ... ----------------------\n",
      "3773716978192801664   152.758262122632 ... 1.3781662725284756e-36\n",
      "3773728587489525504 152.70352598019298 ... 7.272390182701154e-296\n",
      "3773728896727175680 152.64982265739238 ...  5.066718829413902e-11\n",
      "3773729347698488320 152.69284334949072 ...  4.229354229900712e-64\n",
      "3773729553857046144  152.6364830169225 ...  4.550927020739158e-20\n",
      "3773730000533521792  152.6185478482904 ... 1.7124207686156537e-69\n",
      "3773730034893383168 152.61938569245132 ...  7.163620357228919e-25\n",
      "3773730064958289536 152.66916154240923 ... 4.2123950701590276e-11\n",
      "3773730241051793920 152.70241843024976 ...  5.928465410650303e-23\n",
      "3773730477275157760 152.66769292025103 ... 2.3921104536186124e-19\n",
      "     source_id              ra         ...           P            if_member\n",
      "                           deg         ...                                 \n",
      "------------------- ------------------ ... ---------------------- ---------\n",
      "3773716978192801664   152.758262122632 ... 1.3781662725284756e-36      True\n",
      "3773728587489525504 152.70352598019298 ... 7.272390182701154e-296      True\n",
      "3773728896727175680 152.64982265739238 ...  5.066718829413902e-11      True\n",
      "3773729347698488320 152.69284334949072 ...  4.229354229900712e-64      True\n",
      "3773729553857046144  152.6364830169225 ...  4.550927020739158e-20      True\n",
      "3773730000533521792  152.6185478482904 ... 1.7124207686156537e-69      True\n",
      "3773730034893383168 152.61938569245132 ...  7.163620357228919e-25      True\n",
      "3773730064958289536 152.66916154240923 ... 4.2123950701590276e-11      True\n",
      "3773730241051793920 152.70241843024976 ...  5.928465410650303e-23      True\n",
      "3773730477275157760 152.66769292025103 ... 2.3921104536186124e-19      True\n"
     ]
    }
   ],
   "source": [
    "t0_temp = t0[indices_Members]\n",
    "\n",
    "print(s[:10])\n",
    "print(t0_temp[:10])"
   ]
  },
  {
   "cell_type": "code",
   "execution_count": 2,
   "metadata": {},
   "outputs": [
    {
     "name": "stderr",
     "output_type": "stream",
     "text": [
      "WARNING: UnitsWarning: ''electron'.s**-1' did not parse as fits unit: At col 0, Unit ''electron'' not supported by the FITS standard.  If this is meant to be a custom unit, define it with 'u.def_unit'. To have it recognized inside a file reader or other code, enable it with 'u.add_enabled_units'. For details, see https://docs.astropy.org/en/latest/units/combining_and_defining.html [astropy.units.core]\n"
     ]
    }
   ],
   "source": [
    "t0 = Table.read('../../Data/catalogs/Sextans/out_cat/out_test_Sextans_eDR3_generic.fits',format='fits')"
   ]
  },
  {
   "cell_type": "code",
   "execution_count": 3,
   "metadata": {},
   "outputs": [],
   "source": [
    "t0['if_member'].name = 'if_analyzed'"
   ]
  },
  {
   "cell_type": "code",
   "execution_count": 4,
   "metadata": {},
   "outputs": [],
   "source": [
    "t0.write('../../Data/catalogs/Sextans/out_cat/out_test_Sextans_eDR3_generic.fits',format='fits',overwrite=True)"
   ]
  }
 ],
 "metadata": {
  "kernelspec": {
   "display_name": "Tesi",
   "language": "python",
   "name": "python3"
  },
  "language_info": {
   "codemirror_mode": {
    "name": "ipython",
    "version": 3
   },
   "file_extension": ".py",
   "mimetype": "text/x-python",
   "name": "python",
   "nbconvert_exporter": "python",
   "pygments_lexer": "ipython3",
   "version": "3.10.14"
  }
 },
 "nbformat": 4,
 "nbformat_minor": 2
}
